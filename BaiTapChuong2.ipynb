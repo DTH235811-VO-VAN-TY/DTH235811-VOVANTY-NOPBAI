{
 "cells": [
  {
   "cell_type": "code",
   "execution_count": null,
   "id": "9ee98da4",
   "metadata": {},
   "outputs": [
    {
     "name": "stdout",
     "output_type": "stream",
     "text": [
      "Chu vi là:  18.84955592153876\n",
      "Diện tích là:  9.0\n"
     ]
    }
   ],
   "source": [
    "#Cau1\n",
    "import math\n",
    "\n",
    "try:\n",
    "    r = float(input(\"Mời bạn nhập bán kính hình tròn: \"))\n",
    "    cv = 2*math.pi*r\n",
    "    dt=r**2\n",
    "    print(\"Chu vi là: \",cv)\n",
    "    print(\"Diện tích là: \",dt)\n",
    "except:\n",
    "    print(\"Số bạn nhập không hợp lệ, Mời bạn nhấp số khác\")\n",
    "\n"
   ]
  },
  {
   "cell_type": "code",
   "execution_count": 4,
   "id": "9e31a70d",
   "metadata": {},
   "outputs": [
    {
     "name": "stdout",
     "output_type": "stream",
     "text": [
      "0 : 20 : 30 AM\n"
     ]
    }
   ],
   "source": [
    "#Cau2\n",
    "t=int(input(\"Mời bạn nhập số giây: \"))\n",
    "gio = (t//3600)%24\n",
    "phut = (t%3600)//60\n",
    "giay = (t%3600)%60\n",
    "if(gio>=12):\n",
    "    gio-=12\n",
    "    str=\"PM\"\n",
    "else :\n",
    "    str = \"AM\"\n",
    "print(gio, \":\", phut, \":\",giay,str)"
   ]
  },
  {
   "cell_type": "code",
   "execution_count": 8,
   "id": "34e27eb0",
   "metadata": {},
   "outputs": [
    {
     "name": "stdout",
     "output_type": "stream",
     "text": [
      "Điểm trung bình:  5.333333333333333\n",
      "Điểm sau khi làm tròn:  5.33\n"
     ]
    }
   ],
   "source": [
    "toan=float(input(\"Nhập điểm toán: \"))\n",
    "ly = float(input(\"Nhập điểm Lý: \"))\n",
    "hoa = float(input(\"Nhập điểm Hóa: \"))\n",
    "dtb = (toan+ly+hoa)/3\n",
    "print(\"Điểm trung bình: \",dtb)\n",
    "print(\"Điểm sau khi làm tròn: \",round(dtb,2))"
   ]
  }
 ],
 "metadata": {
  "kernelspec": {
   "display_name": "Python 3",
   "language": "python",
   "name": "python3"
  },
  "language_info": {
   "codemirror_mode": {
    "name": "ipython",
    "version": 3
   },
   "file_extension": ".py",
   "mimetype": "text/x-python",
   "name": "python",
   "nbconvert_exporter": "python",
   "pygments_lexer": "ipython3",
   "version": "3.13.7"
  }
 },
 "nbformat": 4,
 "nbformat_minor": 5
}
