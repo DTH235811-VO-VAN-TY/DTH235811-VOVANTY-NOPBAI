{
 "cells": [
  {
   "cell_type": "code",
   "execution_count": 1,
   "metadata": {
    "colab": {
     "base_uri": "https://localhost:8080/"
    },
    "executionInfo": {
     "elapsed": 13,
     "status": "ok",
     "timestamp": 1756428921677,
     "user": {
      "displayName": "VO VAN TY",
      "userId": "17567123574327779659"
     },
     "user_tz": -420
    },
    "id": "i_AEfa04TrOZ",
    "outputId": "759e3f16-6441-4db1-ebf9-f382c076e1ae"
   },
   "outputs": [
    {
     "name": "stdout",
     "output_type": "stream",
     "text": [
      "Hello World!\n"
     ]
    }
   ],
   "source": [
    "print(\"Hello World!\")"
   ]
  },
  {
   "cell_type": "code",
   "execution_count": 2,
   "metadata": {
    "colab": {
     "base_uri": "https://localhost:8080/"
    },
    "executionInfo": {
     "elapsed": 46,
     "status": "ok",
     "timestamp": 1756429137470,
     "user": {
      "displayName": "VO VAN TY",
      "userId": "17567123574327779659"
     },
     "user_tz": -420
    },
    "id": "G-w7x2iNUyDk",
    "outputId": "fa214507-81d9-4696-e7e6-993a37980a0f"
   },
   "outputs": [
    {
     "name": "stdout",
     "output_type": "stream",
     "text": [
      "Albert Einstein đã từng nói: Một người không bao giờ mắc sai lầm không bao giờ thử bất ki điều gì mới\n"
     ]
    }
   ],
   "source": [
    "print(\"Albert Einstein đã từng nói: Một người không bao giờ mắc sai lầm không bao giờ thử bất ki điều gì mới\")"
   ]
  },
  {
   "cell_type": "code",
   "execution_count": 3,
   "metadata": {
    "colab": {
     "base_uri": "https://localhost:8080/"
    },
    "executionInfo": {
     "elapsed": 52,
     "status": "ok",
     "timestamp": 1756429270422,
     "user": {
      "displayName": "VO VAN TY",
      "userId": "17567123574327779659"
     },
     "user_tz": -420
    },
    "id": "XH8buQhQVcjh",
    "outputId": "e805b264-a914-4645-b228-2fb297e29dc7"
   },
   "outputs": [
    {
     "name": "stdout",
     "output_type": "stream",
     "text": [
      "Five is greater than two!\n"
     ]
    }
   ],
   "source": [
    "if 5>2:\n",
    "  print(\"Five is greater than two!\")"
   ]
  },
  {
   "cell_type": "code",
   "execution_count": null,
   "metadata": {
    "colab": {
     "base_uri": "https://localhost:8080/"
    },
    "executionInfo": {
     "elapsed": 12,
     "status": "ok",
     "timestamp": 1756429407643,
     "user": {
      "displayName": "VO VAN TY",
      "userId": "17567123574327779659"
     },
     "user_tz": -420
    },
    "id": "KQtbSGFkV80S",
    "outputId": "00732f3a-0dfe-43c5-f20c-83b6df3bfe25"
   },
   "outputs": [
    {
     "name": "stdout",
     "output_type": "stream",
     "text": [
      "6\n",
      "Hello Python!\n"
     ]
    }
   ],
   "source": [
    "total = 0\n",
    "total=1+\\\n",
    "2+\\\n",
    "3\n",
    "print(total)\n",
    "print(\"Hello Python!\")"
   ]
  },
  {
   "cell_type": "code",
   "execution_count": 6,
   "metadata": {
    "colab": {
     "base_uri": "https://localhost:8080/"
    },
    "executionInfo": {
     "elapsed": 10,
     "status": "ok",
     "timestamp": 1756429656927,
     "user": {
      "displayName": "VO VAN TY",
      "userId": "17567123574327779659"
     },
     "user_tz": -420
    },
    "id": "L2X1NjQ_WqKp",
    "outputId": "218a71b3-be31-489e-b841-520b1a1fe2f3"
   },
   "outputs": [
    {
     "name": "stdout",
     "output_type": "stream",
     "text": [
      "True\n"
     ]
    }
   ],
   "source": [
    "if True:\n",
    "  print(\"True\")\n",
    "else:\n",
    "  print(\"False\")"
   ]
  },
  {
   "cell_type": "code",
   "execution_count": 7,
   "metadata": {
    "colab": {
     "base_uri": "https://localhost:8080/"
    },
    "executionInfo": {
     "elapsed": 9,
     "status": "ok",
     "timestamp": 1756429659925,
     "user": {
      "displayName": "VO VAN TY",
      "userId": "17567123574327779659"
     },
     "user_tz": -420
    },
    "id": "nGPsmGr0XFLk",
    "outputId": "21dc51f3-a320-42a4-bec5-8ad9fba2b378"
   },
   "outputs": [
    {
     "name": "stdout",
     "output_type": "stream",
     "text": [
      "Hello World!\n"
     ]
    }
   ],
   "source": [
    "#This is a comment\n",
    "print(\"Hello World!\")"
   ]
  },
  {
   "cell_type": "code",
   "execution_count": 1,
   "metadata": {
    "executionInfo": {
     "elapsed": 9,
     "status": "ok",
     "timestamp": 1756429820685,
     "user": {
      "displayName": "VO VAN TY",
      "userId": "17567123574327779659"
     },
     "user_tz": -420
    },
    "id": "yyXutbz5XbnI"
   },
   "outputs": [
    {
     "data": {
      "text/plain": [
       "10"
      ]
     },
     "execution_count": 1,
     "metadata": {},
     "output_type": "execute_result"
    }
   ],
   "source": [
    "import math_libs\n",
    "math_libs.add(5,5)"
   ]
  },
  {
   "cell_type": "code",
   "execution_count": 2,
   "metadata": {},
   "outputs": [
    {
     "name": "stdout",
     "output_type": "stream",
     "text": [
      "What is the meaning of life, the universe, and everything?\n",
      "What is your quest?\n",
      "42\n",
      "To seek the Holy Grail.\n"
     ]
    }
   ],
   "source": [
    "import module1\n",
    "import module2\n",
    "print(module1.question)\n",
    "print(module2.question)\n",
    "print(module1.answer)\n",
    "print(module2.answer)"
   ]
  },
  {
   "cell_type": "code",
   "execution_count": 9,
   "metadata": {
    "colab": {
     "base_uri": "https://localhost:8080/"
    },
    "executionInfo": {
     "elapsed": 12,
     "status": "ok",
     "timestamp": 1756429898274,
     "user": {
      "displayName": "VO VAN TY",
      "userId": "17567123574327779659"
     },
     "user_tz": -420
    },
    "id": "oOmGaE8ZYFRY",
    "outputId": "29477223-7f19-443c-d07d-2d6e66734fb5"
   },
   "outputs": [
    {
     "name": "stdout",
     "output_type": "stream",
     "text": [
      "Chao cac ban!\n"
     ]
    }
   ],
   "source": [
    "print(\"Chao cac ban!\")"
   ]
  },
  {
   "cell_type": "code",
   "execution_count": 10,
   "metadata": {
    "colab": {
     "base_uri": "https://localhost:8080/"
    },
    "executionInfo": {
     "elapsed": 44,
     "status": "ok",
     "timestamp": 1756429921758,
     "user": {
      "displayName": "VO VAN TY",
      "userId": "17567123574327779659"
     },
     "user_tz": -420
    },
    "id": "g6ckjgM2YV4O",
    "outputId": "9a12bc17-abb1-498d-8533-8320a123573c"
   },
   "outputs": [
    {
     "name": "stdout",
     "output_type": "stream",
     "text": [
      "Võ Văn Tỷ\n"
     ]
    }
   ],
   "source": [
    "print(\"Võ Văn Tỷ\")"
   ]
  }
 ],
 "metadata": {
  "colab": {
   "authorship_tag": "ABX9TyNjIuyRbz+codxSVJH3FDZ9",
   "provenance": []
  },
  "kernelspec": {
   "display_name": "Python 3",
   "name": "python3"
  },
  "language_info": {
   "codemirror_mode": {
    "name": "ipython",
    "version": 3
   },
   "file_extension": ".py",
   "mimetype": "text/x-python",
   "name": "python",
   "nbconvert_exporter": "python",
   "pygments_lexer": "ipython3",
   "version": "3.13.7"
  }
 },
 "nbformat": 4,
 "nbformat_minor": 0
}
