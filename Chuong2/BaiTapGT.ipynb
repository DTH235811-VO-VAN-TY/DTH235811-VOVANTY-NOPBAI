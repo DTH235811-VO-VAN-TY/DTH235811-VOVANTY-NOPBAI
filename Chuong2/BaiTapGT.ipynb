{
 "cells": [
  {
   "cell_type": "code",
   "execution_count": 3,
   "id": "b60b3752",
   "metadata": {},
   "outputs": [
    {
     "name": "stdout",
     "output_type": "stream",
     "text": [
      "Số tiền ban đầu là: 10,000,000 VND\n",
      "Sau 18 tháng, số tiền là: 11,119,347 VND\n"
     ]
    }
   ],
   "source": [
    "t = float(input(\"Nhập số tiền\"))\n",
    "lai_thang = 0.006\n",
    "so_thang = 18\n",
    "so_chuki = so_thang // 6\n",
    "so_tien = t\n",
    "for i in range(so_chuki):\n",
    "    so_tien = so_tien*(1 + lai_thang*6)\n",
    "print(f\"Số tiền ban đầu là: {t:,.0f} VND\")\n",
    "print(f\"Sau {so_thang} tháng, số tiền là: {so_tien:,.0f} VND\")\n"
   ]
  },
  {
   "cell_type": "code",
   "execution_count": 8,
   "id": "5606c7e6",
   "metadata": {},
   "outputs": [
    {
     "name": "stdout",
     "output_type": "stream",
     "text": [
      "Kết quả của phép toán 5.0 * 5.0 là: 25.0\n"
     ]
    }
   ],
   "source": [
    "a = float(input(\"Nhập a: \"))\n",
    "b = float(input(\"Nhập b: \"))\n",
    "ch = str(input(\"Nhập phép toán: \"))\n",
    "if ch =='+':\n",
    "    print(f\"Kết quả của phép toán {a} {ch} {b} là: {a+b}\")\n",
    "elif ch=='-':\n",
    "    print(f\"Kết quả của phép toán {a} {ch} {b} là: {a-b}\")\n",
    "elif ch=='*':\n",
    "    print(f\"Kết quả của phép toán {a} {ch} {b} là: {a*b}\")\n",
    "elif ch=='/':\n",
    "    print(f\"Kết quả của phép toán {a} {ch} {b} là: {a/b}\")\n",
    "else:\n",
    "    print(f\"{ch} không phải là 1 toán tử!\")"
   ]
  },
  {
   "cell_type": "code",
   "execution_count": 12,
   "id": "22c1fee3",
   "metadata": {},
   "outputs": [
    {
     "name": "stdout",
     "output_type": "stream",
     "text": [
      "Tháng 2 có 29 ngày\n"
     ]
    }
   ],
   "source": [
    "n = int(input(\"Nhập vào 1 tháng: \"))\n",
    "if n==1 or n==3 or n==5 or n==7 or n==8 or n==10 or n==12:\n",
    "    print(f\"Tháng {n} có 31 ngày\")\n",
    "elif n==11 or n==4 or n==6 or n==9:\n",
    "    print(f\"Tháng {n} có 30 ngày\")\n",
    "else:\n",
    "    y = int(input(\"Nhập năm: \"))\n",
    "    if (y%4==0 and y%100!=0) or y%400==0:\n",
    "        print(f\"Tháng {n} có 29 ngày\")\n",
    "    else: print(f\"Tháng {n} có 28 ngày\") "
   ]
  },
  {
   "cell_type": "code",
   "execution_count": 16,
   "id": "ef390d14",
   "metadata": {},
   "outputs": [
    {
     "name": "stdout",
     "output_type": "stream",
     "text": [
      "Cách đọc số 56 là: Năm mươi sáu\n"
     ]
    }
   ],
   "source": [
    "def Doc_so(n):\n",
    "    so_don = [\"không\",\"một\",\"hai\",\"ba\",\"bốn\",\"năm\",\"sáu\",\"bảy\",\"tám\",\"chín\",]\n",
    "    if n<0 or n>99:\n",
    "        return \"Chỉ hổ trợ từ 0 đến 99\"\n",
    "    if n<10:\n",
    "        return so_don[n].capitalize()\n",
    "    if n<20:\n",
    "        if n==10:\n",
    "            return \"Mười\"\n",
    "        elif n==15:\n",
    "            return \"Mười lăm\"\n",
    "        else: return \"Mười\" +so_don[n%10]\n",
    "    chuc = n//10\n",
    "    donVi = n%10\n",
    "    kq = so_don[chuc]+\" mươi\"\n",
    "\n",
    "    if donVi==0:\n",
    "        return kq.capitalize()\n",
    "    elif donVi==1:\n",
    "        return (kq+\"mốt\").capitalize()\n",
    "    elif donVi==5:\n",
    "        return (kq+\"lăm\").capitalize()\n",
    "    else:\n",
    "        return (kq + \" \" + so_don[donVi]).capitalize()\n",
    "\n",
    "n = int(input(\"Nhập số nguyên n(0-99): \"))\n",
    "print(f\"Cách đọc số {n} là: {Doc_so(n)}\")\n"
   ]
  },
  {
   "cell_type": "code",
   "execution_count": 9,
   "id": "0cd0101a",
   "metadata": {},
   "outputs": [
    {
     "name": "stdout",
     "output_type": "stream",
     "text": [
      "Phương trình 1.0x2 + -3.0x + 2.0 = 0 có 2 nghiệm phân biệt!\n",
      "x1 = 2.0\n",
      "x2 = 1.0\n"
     ]
    }
   ],
   "source": [
    "import math\n",
    "a = float(input(\"Nhập hệ số a: \"))\n",
    "while a==0:\n",
    "        print(\"Bạn đã nhập sai mời bạn nhập lại\\n\")\n",
    "        a = float(input(\"Nhập hệ số a: \"))\n",
    "    \n",
    "\n",
    "b = float(input(\"Nhập hệ số b: \"))\n",
    "while b==0:\n",
    "    print(\"Bạn đã nhập sai mời bạn nhập lại\\n\")\n",
    "    b = float(input(\"Nhập hệ số b: \"))\n",
    "c = float(input(\"Nhập hệ số c: \"))\n",
    "delta = b**2 - 4*a*c\n",
    "if delta < 0:\n",
    "    print(f\"Phương trình {a}x2 + {b}x + {c} = 0 vô nghiệm!\")\n",
    "elif delta ==0:\n",
    "    print(f\"Phương trình {a}x2 + {b}x + {c} = 0 có nghiệm kép!\")\n",
    "    print(f\"\\t => Với x1 = x2 = {-(b/2*a)}\")\n",
    "else:\n",
    "    x1 = (-b + math.sqrt(delta))/(2*a)\n",
    "    x2 = (-b - math.sqrt(delta))/(2*a)\n",
    "    print(f\"Phương trình {a}x2 + {b}x + {c} = 0 có 2 nghiệm phân biệt!\")\n",
    "    print(f\"x1 = {x1}\")\n",
    "    print(f\"x2 = {x2}\")"
   ]
  }
 ],
 "metadata": {
  "kernelspec": {
   "display_name": "Python 3",
   "language": "python",
   "name": "python3"
  },
  "language_info": {
   "codemirror_mode": {
    "name": "ipython",
    "version": 3
   },
   "file_extension": ".py",
   "mimetype": "text/x-python",
   "name": "python",
   "nbconvert_exporter": "python",
   "pygments_lexer": "ipython3",
   "version": "3.13.7"
  }
 },
 "nbformat": 4,
 "nbformat_minor": 5
}
