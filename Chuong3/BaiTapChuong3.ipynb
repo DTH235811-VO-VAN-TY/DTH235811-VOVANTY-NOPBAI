{
 "cells": [
  {
   "cell_type": "markdown",
   "id": "e6fc4299",
   "metadata": {},
   "source": [
    "Câu 1: Kiểm tra năm nhuần\n",
    "Yêu cầu: \n",
    "Nhập vào một năm bất kỳ, kiểm tra năm đó có phải năm nhuần hay không. Biết \n",
    "rằng: Năm nhuần là năm chia hết cho 4 nhưng không chia hết cho 100 hoặc chia \n",
    "hết cho 400"
   ]
  },
  {
   "cell_type": "code",
   "execution_count": null,
   "id": "6b163b52",
   "metadata": {},
   "outputs": [
    {
     "name": "stdout",
     "output_type": "stream",
     "text": [
      "Chương trình kiểm tra năm nhuần\n",
      "Năm  2000  là năm nhuần\n"
     ]
    }
   ],
   "source": [
    "print(\"Chương trình kiểm tra năm nhuần\") \n",
    "year=int(input(\"Mời bạn nhập vào 1 năm:\")) \n",
    "if (year % 4 ==0 and year % 100 != 0) or year % 400 == 0: \n",
    "    print(\"Năm \", year, \" là năm nhuần\") \n",
    "else: \n",
    "    print(\"Năm \", year, \" không nhuần\") "
   ]
  },
  {
   "cell_type": "markdown",
   "id": "6981d665",
   "metadata": {},
   "source": [
    "Câu 2: Đếm số ngày trong tháng\n",
    "Yêu cầu: \n",
    "Nhập vào 1 tháng, xuất tháng đó có bao nhiêu ngày.  \n",
    "1,3,5,7,8,10,12➔31 ngày \n",
    "4,6,9,11➔có 30 ngày \n",
    "Nếu là tháng 2 thì yêu cầu nhập thêm năm. Năm nhuần thì tháng 2 có 29 ngày, \n",
    "không nhuần có 28 ngày "
   ]
  },
  {
   "cell_type": "code",
   "execution_count": null,
   "id": "564c40f4",
   "metadata": {},
   "outputs": [
    {
     "name": "stdout",
     "output_type": "stream",
     "text": [
      "Chương trình đếm số ngày trong năm!\n",
      "Tháng 2, năm 2000 có 29 ngày\n"
     ]
    }
   ],
   "source": [
    "print(\"Chương trình đếm số ngày trong năm!\")\n",
    "n = int(input(\"Nhập vào 1 tháng: \"))\n",
    "if n==1 or n==3 or n==5 or n==7 or n==8 or n==10 or n==12:\n",
    "    print(f\"Tháng {n} có 31 ngày\")\n",
    "elif n==11 or n==4 or n==6 or n==9:\n",
    "    print(f\"Tháng {n} có 30 ngày\")\n",
    "elif n==2:\n",
    "    y = int(input(\"Nhập năm: \"))\n",
    "    if (y%4==0 and y%100!=0) or y%400==0:\n",
    "        print(f\"Tháng {n}, năm {y} có 29 ngày\")\n",
    "    else: print(f\"Tháng {n}, {y} có 28 ngày\") \n",
    "else: print(f\"Tháng {n} không hợp lệ\")"
   ]
  },
  {
   "cell_type": "markdown",
   "id": "553bbbb2",
   "metadata": {},
   "source": [
    "Câu 3:  Phương trình bậc 2\n",
    "Yêu cầu: \n",
    "    Viết chương trình giải phương trình bậc 2: ax2+bx+c=0 "
   ]
  },
  {
   "cell_type": "code",
   "execution_count": null,
   "id": "b566f379",
   "metadata": {},
   "outputs": [
    {
     "name": "stdout",
     "output_type": "stream",
     "text": [
      "Phương trình 1.0x2 + -3.0x + 2.0 = 0 có 2 nghiệm phân biệt!\n",
      "x1 = 2.0\n",
      "x2 = 1.0\n"
     ]
    }
   ],
   "source": [
    "import math\n",
    "\n",
    "a = float(input(\"Nhập hệ số a: \"))\n",
    "while True:\n",
    "    if a==0:\n",
    "        print(\"Bạn đã nhập sai mời bạn nhập lại\\n\")\n",
    "    else: break\n",
    "b = float(input(\"Nhập hệ số b: \"))\n",
    "\n",
    "while True:\n",
    "    if b==0:\n",
    "       print(\"Bạn đã nhập sai mời bạn nhập lại\\n\")\n",
    "    else: break \n",
    "c = float(input(\"Nhập hệ số c: \"))\n",
    "delta = b**2 - 4*a*c\n",
    "if delta < 0:\n",
    "    print(f\"Phương trình {a}x2 + {b}x + {c} = 0 vô nghiệm!\")\n",
    "elif delta ==0:\n",
    "    print(f\"Phương trình {a}x2 + {b}x + {c} = 0 có nghiệm kép!\")\n",
    "    print(f\"\\t => Với x1 = x2 = {-(b/2*a)}\")\n",
    "else:\n",
    "    x1 = (-b + math.sqrt(delta))/(2*a)\n",
    "    x2 = (-b - math.sqrt(delta))/(2*a)\n",
    "    print(f\"Phương trình {a}x2 + {b}x + {c} = 0 có 2 nghiệm phân biệt!\")\n",
    "    print(f\"x1 = {x1}\")\n",
    "    print(f\"x2 = {x2}\")"
   ]
  },
  {
   "cell_type": "markdown",
   "id": "1497677c",
   "metadata": {},
   "source": [
    "Câu 4: Hãy cho biết kết quả của Boolean Expression\n",
    "    Yêu cầu: \n",
    "    Cho x, y, z = 3, 5, 7. Hãy cho biết kết quả của Boolean Expression \n",
    "(a) x == 3 \n",
    "(b) x < y  \n",
    "(c) x >= y \n",
    "(d) x <= y \n",
    "(e) x != y - 2 \n",
    "(f) x < 10 \n",
    "(g) x >= 0 and x < 10 \n",
    "(h) x < 0 and x < 10 \n",
    "(i) x >= 0 and x < 2 \n",
    "(j) x < 0 or x < 10 \n",
    "(k) x > 0 or x < 10 \n",
    "(l) x < 0 or x > 10"
   ]
  },
  {
   "cell_type": "code",
   "execution_count": null,
   "id": "06590292",
   "metadata": {},
   "outputs": [
    {
     "name": "stdout",
     "output_type": "stream",
     "text": [
      "(a) x == 3 => True\n",
      "(b) x < y => True\n",
      "(c) x >= y => False\n",
      "(d) x <= y => True\n",
      "(e) x != y - 2 => True\n",
      "(f) x < 10 => True\n",
      "(g) x >= 0 and x < 10 => True\n",
      "(h) x < 0 and x < 10 => False\n",
      "(i) x >= 0 and x < 2 => False\n",
      "(j) x < 0 or x < 10 => True\n",
      "(k) x > 0 or x < 10 => True\n",
      "(l) x < 0 or x > 10 => False\n"
     ]
    }
   ],
   "source": [
    "x=3\n",
    "y=5\n",
    "y=7 \n",
    "print(f\"(a) x == 3 => {x==3}\") \n",
    "print(f\"(b) x < y => {x<y}\") \n",
    "print(f\"(c) x >= y => {x>=y}\") \n",
    "print(f\"(d) x <= y => {x<=y}\")\n",
    "print(f\"(e) x != y - 2 => {x!=y-2}\") \n",
    "print(f\"(f) x < 10 => {x<10}\")\n",
    "print(f\"(g) x >= 0 and x < 10 => {x>=0 and x<10}\") \n",
    "print(f\"(h) x < 0 and x < 10 => {x<0 and x<10}\") \n",
    "print(f\"(i) x >= 0 and x < 2 => {x>=0 and x<2}\") \n",
    "print(f\"(j) x < 0 or x < 10 => {x<0 or x<10}\")\n",
    "print(f\"(k) x > 0 or x < 10 => {x>0 or x<10}\")\n",
    "print(f\"(l) x < 0 or x > 10 => {x<0 or x>10}\")\n"
   ]
  },
  {
   "cell_type": "markdown",
   "id": "89bac964",
   "metadata": {},
   "source": [
    "Câu 5: Hãy cho biết kết quả xuất ra màn hình \n",
    "Yêu cầu: \n",
    "Cho i, j, k là các con số và lệnh dưới đây: \n",
    "Hãy cho biết kết quả xuất ra màn hình nếu tuần tự 3 biến trên có các giá trị sau: "
   ]
  },
  {
   "cell_type": "code",
   "execution_count": null,
   "id": "64153ce6",
   "metadata": {},
   "outputs": [
    {
     "name": "stdout",
     "output_type": "stream",
     "text": [
      "Câu a:  Với i = 3, j = 5, k = 7. Thi kết quả xuất ra màn hình là\n",
      "\t Kết quả: i = 5, j = 5, k = 7\n",
      "----------------------------------------------------------------------\n",
      "Câu b:  Với i = 3, j = 7, k = 5. Thi kết quả xuất ra màn hình là\n",
      "\t Kết quả: i = 3, j = 5, k = 5\n",
      "----------------------------------------------------------------------\n",
      "Câu c:  Với i = 5, j = 3, k = 7. Thi kết quả xuất ra màn hình là\n",
      "\t Kết quả: i = 7, j = 3, k = 7\n",
      "----------------------------------------------------------------------\n",
      "Câu d:  Với i = 5, j = 7, k = 3. Thi kết quả xuất ra màn hình là\n",
      "\t Kết quả: i = 5, j = 3, k = 3\n",
      "----------------------------------------------------------------------\n",
      "Câu e:  Với i = 7, j = 3, k = 5. Thi kết quả xuất ra màn hình là\n",
      "\t Kết quả: i = 5, j = 3, k = 5\n",
      "----------------------------------------------------------------------\n",
      "Câu f:  Với i = 7, j = 5, k = 3. Thi kết quả xuất ra màn hình là\n",
      "\t Kết quả: i = 7, j = 7, k = 3\n",
      "----------------------------------------------------------------------\n"
     ]
    }
   ],
   "source": [
    "\n",
    "def TinhBT(i,j,k):\n",
    "    print(f\"Với i = {i}, j = {j}, k = {k}. Thi kết quả xuất ra màn hình là\")\n",
    "    if i<j:\n",
    "        if j < k:\n",
    "            i=j\n",
    "        else:\n",
    "            j=k\n",
    "    else: \n",
    "        if j>k:\n",
    "            j=i\n",
    "        else:\n",
    "            i=k\n",
    "    print(f\"\\t Kết quả: i = {i}, j = {j}, k = {k}\")\n",
    "    print(\"----------------------------------------------------------------------\")\n",
    "print(\"Câu a: \", end = \" \")\n",
    "TinhBT(3,5,7)\n",
    "print(\"Câu b: \",end=\" \")\n",
    "(TinhBT(3,7,5))\n",
    "print(\"Câu c: \",end=\" \")\n",
    "(TinhBT(5,3,7))\n",
    "print(\"Câu d: \",end=\" \")\n",
    "(TinhBT(5,7,3))\n",
    "print(\"Câu e: \",end=\" \")\n",
    "(TinhBT(7,3,5))\n",
    "print(\"Câu f: \",end=\" \")\n",
    "( TinhBT(7,5,3))\n"
   ]
  },
  {
   "cell_type": "markdown",
   "id": "5c0037e3",
   "metadata": {},
   "source": [
    "Câu 6: Nhập một số n có tối đa 2 chữ số. Hãy cho biết cách đọc ra dạng chữ.  \n",
    "(vd: n=35 => Ba mươi lăm, n=5 => năm).  "
   ]
  },
  {
   "cell_type": "code",
   "execution_count": null,
   "id": "1a1b9b84",
   "metadata": {},
   "outputs": [
    {
     "name": "stdout",
     "output_type": "stream",
     "text": [
      "Cách đọc số 35 là: Ba mươi lăm\n"
     ]
    }
   ],
   "source": [
    "def Doc_so(n):\n",
    "    so_don = [\"không\",\"một\",\"hai\",\"ba\",\"bốn\",\"năm\",\"sáu\",\"bảy\",\"tám\",\"chín\",]\n",
    "    if n<0 or n>99:\n",
    "        return \"Chỉ hổ trợ từ 0 đến 99\"\n",
    "    if n<10:\n",
    "        return so_don[n].capitalize()\n",
    "    if n<20:\n",
    "        if n==10:\n",
    "            return \"Mười\"\n",
    "        elif n==15:\n",
    "            return \"Mười lăm\"\n",
    "        else: return \"Mười\" +so_don[n%10]\n",
    "    chuc = n//10\n",
    "    donVi = n%10\n",
    "    kq = so_don[chuc]+\" mươi \"\n",
    "\n",
    "    if donVi==0:\n",
    "        return kq.capitalize()\n",
    "    elif donVi==1:\n",
    "        return (kq+\"mốt\").capitalize()\n",
    "    elif donVi==5:\n",
    "        return (kq+\"lăm\").capitalize()\n",
    "    else:\n",
    "        return (kq + \" \" + so_don[donVi]).capitalize()\n",
    "\n",
    "n = int(input(\"Nhập số nguyên n(0-99): \"))\n",
    "print(f\"Cách đọc số {n} là: {Doc_so(n)}\")"
   ]
  },
  {
   "cell_type": "markdown",
   "id": "a099ba4e",
   "metadata": {},
   "source": [
    "Câu 7: Nhập vào một ngày (ngày, tháng, năm). Tìm ngày kế sau ngày  \n",
    "vừa nhập (ngày/tháng/năm). "
   ]
  },
  {
   "cell_type": "code",
   "execution_count": null,
   "id": "32106c47",
   "metadata": {},
   "outputs": [
    {
     "name": "stdout",
     "output_type": "stream",
     "text": [
      "Ngày tháng năm vừa nhập là: 1/1/2005!\n",
      "Ngày kế tiếp là: 2/1/2005\n"
     ]
    }
   ],
   "source": [
    "def is_leap(year):\n",
    "    return (year %40 and year % 100 != 0) or (year % 400==0)\n",
    "def days_in_month(month, year): \n",
    "    if month in [1,3,5,7,8,10,12]:\n",
    "        return 31\n",
    "    elif month in [4,6,9,11]:\n",
    "        return 30\n",
    "    elif month== 2:\n",
    "        return 29 if is_leap(year) else 28\n",
    "    else:\n",
    "        return 0\n",
    "\n",
    "day = int(input(\"Nhập ngày: \"))\n",
    "month = int(input(\"Nhập tháng: \"))\n",
    "year = int(input(\"Nhập năm: \"))\n",
    "\n",
    "dmax = days_in_month(month, year)\n",
    "print(f\"Ngày tháng năm vừa nhập là: {day}/{month}/{year}!\")\n",
    "if day < dmax:\n",
    "    day += 1\n",
    "else:\n",
    "    day = 1\n",
    "    if month ==12:\n",
    "        month = 1 \n",
    "        year += 1\n",
    "    else: month + 1\n",
    "print(f\"Ngày kế tiếp là: {day}/{month}/{year}\")"
   ]
  },
  {
   "cell_type": "markdown",
   "id": "5e4d5698",
   "metadata": {},
   "source": [
    "Câu 8:  Nhập vào 2 giá trị a, b và phép toán ‘+’, ‘-’, ‘*’, ‘/’ . Hãy xuất kết quả theo \n",
    "đúng phép toán đã nhập. "
   ]
  },
  {
   "cell_type": "code",
   "execution_count": null,
   "id": "a4f2ae3b",
   "metadata": {},
   "outputs": [
    {
     "name": "stdout",
     "output_type": "stream",
     "text": [
      "Kết quả của phép toán 5.0 + 5.0 là: 10.0\n"
     ]
    }
   ],
   "source": [
    "a = float(input(\"Nhập a: \"))\n",
    "b = float(input(\"Nhập b: \"))\n",
    "ch = str(input(\"Nhập phép toán: \"))\n",
    "if ch =='+':\n",
    "    print(f\"Kết quả của phép toán {a} {ch} {b} là: {a+b}\")\n",
    "elif ch=='-':\n",
    "    print(f\"Kết quả của phép toán {a} {ch} {b} là: {a-b}\")\n",
    "elif ch=='*':\n",
    "    print(f\"Kết quả của phép toán {a} {ch} {b} là: {a*b}\")\n",
    "elif ch=='/':\n",
    "    if b==0: \n",
    "        print(\"Không thể thực hiện phép toán, do b = 0\")\n",
    "    else:\n",
    "        print(f\"Kết quả của phép toán {a} {ch} {b} là: {a/b}\")\n",
    "else:\n",
    "    print(f\"{ch} không phải là 1 toán tử!\")"
   ]
  },
  {
   "cell_type": "markdown",
   "id": "ade2ca41",
   "metadata": {},
   "source": [
    "Câu 9: Nhập vào 1 tháng, xuất ra tháng đó thuộc quý mấy trong năm. "
   ]
  },
  {
   "cell_type": "code",
   "execution_count": null,
   "id": "81c40a9c",
   "metadata": {},
   "outputs": [
    {
     "name": "stdout",
     "output_type": "stream",
     "text": [
      "Tháng 9 thuộc quý 3\n"
     ]
    }
   ],
   "source": [
    "\n",
    "    month = int(input(\"Nhập vào 1 tháng(1-12): \"))\n",
    "    if 1 <= month <=3:\n",
    "        print(f\"Tháng {month} thuộc quý 1 \")\n",
    "    elif 4 <= month <=6:\n",
    "        print(f\"Tháng {month} thuộc quý 2\")\n",
    "    elif 7<=month<=9:\n",
    "        print(f\"Tháng {month} thuộc quý 3\")\n",
    "    elif 10<=month<=12:\n",
    "        print(f\"Tháng {month} thuộc quý thứ 4\")\n",
    "    else: \n",
    "        print(\"Tháng bạn nhập không hợp lệ, Mời bạn nhập lại!\")"
   ]
  },
  {
   "attachments": {
    "image.png": {
     "image/png": "[encoded data removed]"
    }
   },
   "cell_type": "markdown",
   "id": "97a470e3",
   "metadata": {},
   "source": [
    "Câu 10: Tính dãy số\n",
    "![image.png](attachment:image.png)\n",
    "Viết chương trình cho phép nhập x, n và xuất ra kết quả của biểu thức."
   ]
  },
  {
   "cell_type": "code",
   "execution_count": 48,
   "id": "be6bde7b",
   "metadata": {},
   "outputs": [
    {
     "name": "stdout",
     "output_type": "stream",
     "text": [
      "s(5,2)=17.5\n"
     ]
    }
   ],
   "source": [
    "x=int(input(\"Nhập x:\")) \n",
    "n=int(input(\"Nhập N:\")) \n",
    "s=0 \n",
    "for i in range(1,n+1): \n",
    "    tu=x**i \n",
    "    mau=1 \n",
    "    for j in range(1,i+1): \n",
    "        mau=mau*j \n",
    "    s=s+(tu/mau) \n",
    "print(\"s({0},{1})={2}\".format(x,n,s)) "
   ]
  },
  {
   "cell_type": "markdown",
   "id": "9fd9dd31",
   "metadata": {},
   "source": [
    "Câu 11: Kiểm tra số nguyên tố \n",
    "Yêu cầu: \n",
    "Viết chương trình nhập vào một số, kiểm tra xem số này có phải là số nguyên tố \n",
    "hay không. Hỏi người dùng có tiếp tục sử dụng hay thoát phần mềm. "
   ]
  },
  {
   "cell_type": "code",
   "execution_count": 50,
   "id": "8f134ccc",
   "metadata": {},
   "outputs": [
    {
     "name": "stdout",
     "output_type": "stream",
     "text": [
      "7 Là số nguyên tố\n",
      "BYE!\n"
     ]
    }
   ],
   "source": [
    "while True: \n",
    "    n=int(input(\"Nhập 1 số nguyên dương\")) \n",
    "    dem=0 \n",
    "    for i in range(1,n+1):  \n",
    "        if n % i ==0 : \n",
    "            dem+=1 \n",
    "    if dem==2: \n",
    "        print(n,\"Là số nguyên tố\") \n",
    "    else: \n",
    "        print(n,\"Không là số nguyên tố\") \n",
    "    hoi=input(\"Tiếp không Thím?(c/k):\") \n",
    "    if hoi == \"k\": \n",
    "        break \n",
    "print(\"BYE!\")   "
   ]
  },
  {
   "cell_type": "markdown",
   "id": "a7db5ff5",
   "metadata": {},
   "source": [
    "Câu 12: Xuất bảng cửu chương \n",
    "Yêu cầu: \n",
    "Xuất bảng cửu chương 2→9 như hình dưới đây. "
   ]
  },
  {
   "cell_type": "code",
   "execution_count": 52,
   "id": "5e65d202",
   "metadata": {},
   "outputs": [
    {
     "name": "stdout",
     "output_type": "stream",
     "text": [
      "2 * 1 = 2\t3 * 1 = 3\t4 * 1 = 4\t5 * 1 = 5\t6 * 1 = 6\t7 * 1 = 7\t8 * 1 = 8\t9 * 1 = 9\t\n",
      "2 * 2 = 4\t3 * 2 = 6\t4 * 2 = 8\t5 * 2 = 10\t6 * 2 = 12\t7 * 2 = 14\t8 * 2 = 16\t9 * 2 = 18\t\n",
      "2 * 3 = 6\t3 * 3 = 9\t4 * 3 = 12\t5 * 3 = 15\t6 * 3 = 18\t7 * 3 = 21\t8 * 3 = 24\t9 * 3 = 27\t\n",
      "2 * 4 = 8\t3 * 4 = 12\t4 * 4 = 16\t5 * 4 = 20\t6 * 4 = 24\t7 * 4 = 28\t8 * 4 = 32\t9 * 4 = 36\t\n",
      "2 * 5 = 10\t3 * 5 = 15\t4 * 5 = 20\t5 * 5 = 25\t6 * 5 = 30\t7 * 5 = 35\t8 * 5 = 40\t9 * 5 = 45\t\n",
      "2 * 6 = 12\t3 * 6 = 18\t4 * 6 = 24\t5 * 6 = 30\t6 * 6 = 36\t7 * 6 = 42\t8 * 6 = 48\t9 * 6 = 54\t\n",
      "2 * 7 = 14\t3 * 7 = 21\t4 * 7 = 28\t5 * 7 = 35\t6 * 7 = 42\t7 * 7 = 49\t8 * 7 = 56\t9 * 7 = 63\t\n",
      "2 * 8 = 16\t3 * 8 = 24\t4 * 8 = 32\t5 * 8 = 40\t6 * 8 = 48\t7 * 8 = 56\t8 * 8 = 64\t9 * 8 = 72\t\n",
      "2 * 9 = 18\t3 * 9 = 27\t4 * 9 = 36\t5 * 9 = 45\t6 * 9 = 54\t7 * 9 = 63\t8 * 9 = 72\t9 * 9 = 81\t\n",
      "2 * 10 = 20\t3 * 10 = 30\t4 * 10 = 40\t5 * 10 = 50\t6 * 10 = 60\t7 * 10 = 70\t8 * 10 = 80\t9 * 10 = 90\t\n"
     ]
    }
   ],
   "source": [
    "for i in range(1,11):\n",
    "    for j in range(2,10):\n",
    "        nhan = f\"{j} * {i} = {j*i}\"\n",
    "        print(nhan,end ='\\t')\n",
    "    print()"
   ]
  },
  {
   "cell_type": "markdown",
   "id": "b2790270",
   "metadata": {},
   "source": [
    "Câu 13:  Cho biết bao nhiêu dấu * được in ra trên màn hình \n",
    "Cho biết bao nhiêu dấu * được in ra trên màn hình "
   ]
  },
  {
   "cell_type": "code",
   "execution_count": null,
   "id": "c8d8cfa7",
   "metadata": {},
   "outputs": [
    {
     "name": "stdout",
     "output_type": "stream",
     "text": [
      "----------------------------Bài làm--------------------------\n",
      "Kết quả có vô hạn dấu * sẽ được in ra do biên a luôn luôn bằng 0 và điều kiện a < 100 luôn luôn đúng\n"
     ]
    }
   ],
   "source": [
    "a = 0\n",
    "while a < 100:\n",
    "    print('*', end = ' ') \n",
    "print()\n",
    "print(\"----------------------------Bài làm--------------------------\")\n",
    "print(\"Kết quả có vô hạn dấu * sẽ được in ra do biên a luôn luôn bằng 0 và điều kiện a < 100 luôn luôn đúng\")"
   ]
  },
  {
   "cell_type": "markdown",
   "id": "27e9102b",
   "metadata": {},
   "source": [
    "Câu 14: Cho biết bao nhiêu dấu * được in ra trên màn hình\n",
    "Yêu cầu: \n",
    "Cho biết bao nhiêu dấu * được in ra trên màn hình"
   ]
  },
  {
   "cell_type": "code",
   "execution_count": 83,
   "id": "875bc882",
   "metadata": {},
   "outputs": [
    {
     "name": "stdout",
     "output_type": "stream",
     "text": [
      "* * * * * * * * * * * * * * * * * * * * \n",
      "* * * * * * * * * * * * * * * * * * * * \n",
      "* * * * * * * * * * * * * * * * * * * * \n",
      "* * * * * * * * * * * * * * * * * * * * \n",
      "* * * * * * * * * * * * * * * * * * * * \n",
      "* * * * * * * * * * * * * * * * * * * * \n",
      "* * * * * * * * * * * * * * * * * * * * \n",
      "* * * * * * * * * * * * * * * * * * * * \n",
      "* * * * * * * * * * * * * * * * * * * * \n",
      "* * * * * * * * * * * * * * * * * * * * \n",
      "* * * * * * * * * * * * * * * * * * * * \n",
      "* * * * * * * * * * * * * * * * * * * * \n",
      "* * * * * * * * * * * * * * * * * * * * \n",
      "* * * * * * * * * * * * * * * * * * * * \n",
      "* * * * * * * * * * * * * * * * * * * * \n",
      "* * * * * * * * * * * * * * * * * * * * \n",
      "* * * * * * * * * * * * * * * * * * * * \n",
      "* * * * * * * * * * * * * * * * * * * * \n",
      "* * * * * * * * * * * * * * * * * * * * \n",
      "* * * * * * * * * * * * * * * * * * * * \n",
      "* * * * * * * * * * * * * * * * * * * * \n",
      "* * * * * * * * * * * * * * * * * * * * \n",
      "* * * * * * * * * * * * * * * * * * * * \n",
      "* * * * * * * * * * * * * * * * * * * * \n",
      "* * * * * * * * * * * * * * * * * * * * \n",
      "* * * * * * * * * * * * * * * * * * * * \n",
      "* * * * * * * * * * * * * * * * * * * * \n",
      "* * * * * * * * * * * * * * * * * * * * \n",
      "* * * * * * * * * * * * * * * * * * * * \n",
      "* * * * * * * * * * * * * * * * * * * * \n",
      "* * * * * * * * * * * * * * * * * * * * \n",
      "* * * * * * * * * * * * * * * * * * * * \n",
      "* * * * * * * * * * * * * * * * * * * * \n",
      "* * * * * * * * * * * * * * * * * * * * \n",
      "* * * * * * * * * * * * * * * * * * * * \n",
      "* * * * * * * * * * * * * * * * * * * * \n",
      "* * * * * * * * * * * * * * * * * * * * \n",
      "* * * * * * * * * * * * * * * * * * * * \n",
      "* * * * * * * * * * * * * * * * * * * * \n",
      "* * * * * * * * * * * * * * * * * * * * \n",
      "* * * * * * * * * * * * * * * * * * * * \n",
      "* * * * * * * * * * * * * * * * * * * * \n",
      "* * * * * * * * * * * * * * * * * * * * \n",
      "* * * * * * * * * * * * * * * * * * * * \n",
      "* * * * * * * * * * * * * * * * * * * * \n",
      "* * * * * * * * * * * * * * * * * * * * \n",
      "* * * * * * * * * * * * * * * * * * * * \n",
      "* * * * * * * * * * * * * * * * * * * * \n",
      "* * * * * * * * * * * * * * * * * * * * \n",
      "* * * * * * * * * * * * * * * * * * * * \n",
      "* * * * * * * * * * * * * * * * * * * * \n",
      "* * * * * * * * * * * * * * * * * * * * \n",
      "* * * * * * * * * * * * * * * * * * * * \n",
      "* * * * * * * * * * * * * * * * * * * * \n",
      "* * * * * * * * * * * * * * * * * * * * \n",
      "* * * * * * * * * * * * * * * * * * * * \n",
      "* * * * * * * * * * * * * * * * * * * * \n",
      "* * * * * * * * * * * * * * * * * * * * \n",
      "* * * * * * * * * * * * * * * * * * * * \n",
      "* * * * * * * * * * * * * * * * * * * * \n",
      "* * * * * * * * * * * * * * * * * * * * \n",
      "* * * * * * * * * * * * * * * * * * * * \n",
      "* * * * * * * * * * * * * * * * * * * * \n",
      "* * * * * * * * * * * * * * * * * * * * \n",
      "* * * * * * * * * * * * * * * * * * * * \n",
      "* * * * * * * * * * * * * * * * * * * * \n",
      "* * * * * * * * * * * * * * * * * * * * \n",
      "* * * * * * * * * * * * * * * * * * * * \n",
      "* * * * * * * * * * * * * * * * * * * * \n",
      "* * * * * * * * * * * * * * * * * * * * \n",
      "* * * * * * * * * * * * * * * * * * * * \n",
      "* * * * * * * * * * * * * * * * * * * * \n",
      "* * * * * * * * * * * * * * * * * * * * \n",
      "* * * * * * * * * * * * * * * * * * * * \n",
      "* * * * * * * * * * * * * * * * * * * * \n",
      "* * * * * * * * * * * * * * * * * * * * \n",
      "* * * * * * * * * * * * * * * * * * * * \n",
      "* * * * * * * * * * * * * * * * * * * * \n",
      "* * * * * * * * * * * * * * * * * * * * \n",
      "* * * * * * * * * * * * * * * * * * * * \n",
      "* * * * * * * * * * * * * * * * * * * * \n",
      "* * * * * * * * * * * * * * * * * * * * \n",
      "* * * * * * * * * * * * * * * * * * * * \n",
      "* * * * * * * * * * * * * * * * * * * * \n",
      "* * * * * * * * * * * * * * * * * * * * \n",
      "* * * * * * * * * * * * * * * * * * * * \n",
      "* * * * * * * * * * * * * * * * * * * * \n",
      "* * * * * * * * * * * * * * * * * * * * \n",
      "* * * * * * * * * * * * * * * * * * * * \n",
      "* * * * * * * * * * * * * * * * * * * * \n",
      "* * * * * * * * * * * * * * * * * * * * \n",
      "* * * * * * * * * * * * * * * * * * * * \n",
      "* * * * * * * * * * * * * * * * * * * * \n",
      "* * * * * * * * * * * * * * * * * * * * \n",
      "* * * * * * * * * * * * * * * * * * * * \n",
      "* * * * * * * * * * * * * * * * * * * * \n",
      "* * * * * * * * * * * * * * * * * * * * \n",
      "* * * * * * * * * * * * * * * * * * * * \n",
      "* * * * * * * * * * * * * * * * * * * * \n",
      "* * * * * * * * * * * * * * * * * * * * \n"
     ]
    }
   ],
   "source": [
    "a = 0\n",
    "while a < 100:\n",
    "    b=0\n",
    "    while b < 40:\n",
    "        if (a+b)%2==0:\n",
    "            print('*', end = ' ') \n",
    "        b+=1\n",
    "    print()\n",
    "    a+=1\n"
   ]
  },
  {
   "cell_type": "markdown",
   "id": "1fee9aed",
   "metadata": {},
   "source": [
    "Câu 15: Giải thích cách chạy các dòng lệnh range\n",
    "Yêu cầu: \n",
    "(a) range(5) \n",
    "(b) range(5, 10) \n",
    "(c) range(5, 20, 3) \n",
    "(d) range(20, 5, -1) \n",
    "(e) range(20, 5, -3) \n",
    "(f) range(10, 5) \n",
    "(g) range(0) \n",
    "(h) range(10, 101, 10) \n",
    "(i) range(10, -1, -1) \n",
    "(j) range(-3, 4) \n",
    "(k) range(0, 10, 1)"
   ]
  },
  {
   "cell_type": "code",
   "execution_count": 71,
   "id": "5bdf5120",
   "metadata": {},
   "outputs": [
    {
     "name": "stdout",
     "output_type": "stream",
     "text": [
      "--------Giải Thích Range-------------\n",
      "\t Range(Start,end,step). Với\n",
      "\t Start: Giá trị bắt đâu(mặc định là 0)\n",
      "\t End: Giá trị kết thúc(không bao gồm giá trị này)\n",
      "Bước ngảy giữa các giá trị(Mặc định là 1)\n",
      "Câu a: range(5) [0, 1, 2, 3, 4]\n",
      "Câu b: range(5, 10) [5, 6, 7, 8, 9]\n",
      "Câu c: range(5, 20, 3) [5, 8, 11, 14, 17]\n",
      "Câu d: range(20, 5, -1) [20, 19, 18, 17, 16, 15, 14, 13, 12, 11, 10, 9, 8, 7, 6]\n",
      "Câu e: range(20, 5, -3) [20, 17, 14, 11, 8]\n",
      "Câu f: range(10, 5) []\n",
      "Câu g: range(0) []\n",
      "Câu h: range(10, 101, 10) [10, 20, 30, 40, 50, 60, 70, 80, 90, 100]\n",
      "Câu i: range(10, -1, -1) [10, 9, 8, 7, 6, 5, 4, 3, 2, 1, 0]\n",
      "Câu j: range(-3, 4) [-3, -2, -1, 0, 1, 2, 3]\n",
      "Câu k: range(0, 10, 1) [0, 1, 2, 3, 4, 5, 6, 7, 8, 9]\n"
     ]
    }
   ],
   "source": [
    "print(\"--------Giải Thích Range-------------\")\n",
    "print(\"\\t Range(Start,end,step). Với\")\n",
    "print(\"\\t Start: Giá trị bắt đâu(mặc định là 0)\")\n",
    "print(\"\\t End: Giá trị kết thúc(không bao gồm giá trị này)\")\n",
    "print(\"Bước ngảy giữa các giá trị(Mặc định là 1)\")\n",
    "print(\"Câu a: range(5)\", list(range(5)))\n",
    "print(\"Câu b: range(5, 10)\", list(range(5, 10)))\n",
    "print(\"Câu c: range(5, 20, 3)\", list(range(5, 20, 3)))\n",
    "print(\"Câu d: range(20, 5, -1)\", list(range(20, 5, -1)))\n",
    "print(\"Câu e: range(20, 5, -3)\", list(range(20, 5, -3)))\n",
    "print(\"Câu f: range(10, 5)\", list(range(10, 5)))\n",
    "print(\"Câu g: range(0)\", list(range(0)))\n",
    "print(\"Câu h: range(10, 101, 10)\", list(range(10, 101, 10)))\n",
    "print(\"Câu i: range(10, -1, -1)\", list(range(10, -1, -1)))\n",
    "print(\"Câu j: range(-3, 4)\", list(range(-3, 4)))\n",
    "print(\"Câu k: range(0, 10, 1)\", list(range(0, 10, 1)))\n"
   ]
  },
  {
   "cell_type": "markdown",
   "id": "9cd98477",
   "metadata": {},
   "source": [
    "Câu 16: Cho biết bao nhiêu dấu * được in ra trên màn hình   \n",
    "Yêu cầu: \n",
    "Cho biết bao nhiêu dấu * được in ra trên màn hình "
   ]
  },
  {
   "cell_type": "code",
   "execution_count": 72,
   "id": "f8f80eab",
   "metadata": {},
   "outputs": [
    {
     "name": "stdout",
     "output_type": "stream",
     "text": [
      "* * * * * * * * * * * * * * * * \n"
     ]
    }
   ],
   "source": [
    "for a in range(20,100,5):\n",
    "    print('*', end = ' ')\n",
    "print()"
   ]
  },
  {
   "cell_type": "markdown",
   "id": "58a2e4dd",
   "metadata": {},
   "source": [
    "Câu 17: Viết lại coding dưới đây bằng cách dùng từ khóa break thay thế cho biến \n",
    "done \n",
    "Yêu cầu: \n",
    "Viết lại coding dưới đây bằng cách dùng từ khóa break thay thế cho biến done \n"
   ]
  },
  {
   "cell_type": "code",
   "execution_count": 74,
   "id": "388fdebc",
   "metadata": {},
   "outputs": [],
   "source": [
    "n, m = 0, 100\n",
    "while n != m:\n",
    "    n = int(input())\n",
    "    if n < 0:\n",
    "        break  \n",
    "    print(\"n =\", n)"
   ]
  },
  {
   "cell_type": "markdown",
   "id": "b6966acf",
   "metadata": {},
   "source": [
    "Câu 18: Vẽ các hình dưới đây \n",
    "Yêu cầu: \n",
    "Với n là chiều cao của hình, hãy dựa vào n để Vẽ các hình dưới đây "
   ]
  },
  {
   "cell_type": "code",
   "execution_count": 81,
   "id": "849d75d4",
   "metadata": {},
   "outputs": [
    {
     "name": "stdout",
     "output_type": "stream",
     "text": [
      "Hinh Vuông Rỗng\n",
      "* * * * \n",
      "*     * \n",
      "*     * \n",
      "* * * * \n",
      "Hinh Tam Giác Vuông Cạnh Dưới Phải\n",
      "   *\n",
      "  **\n",
      " ***\n",
      "****\n"
     ]
    }
   ],
   "source": [
    "def HinhVuong(n):\n",
    "    for i in range(n):\n",
    "        for j in range(n):\n",
    "            if i==0 or i==3 or j ==0 or j==3:\n",
    "                print('*',end=' ')\n",
    "            else:\n",
    "                print(' ',end=' ')\n",
    "        print()\n",
    "def HinhTamGiacVuong(n):\n",
    "    for i in range(1, n + 1):\n",
    "        print(' ' * (n - i) + '*' * i)\n",
    "n = int(input(\"Nhập n: \"))\n",
    "print(\"Hinh Vuông Rỗng\")\n",
    "HinhVuong(n)\n",
    "print(\"Hinh Tam Giác Vuông Cạnh Dưới Phải\")\n",
    "HinhTamGiacVuong(n)"
   ]
  },
  {
   "cell_type": "markdown",
   "id": "b72944f1",
   "metadata": {},
   "source": [
    "Câu 19: Tính giá trị biểu thức S \n"
   ]
  },
  {
   "cell_type": "code",
   "execution_count": 82,
   "id": "f2ef4545",
   "metadata": {},
   "outputs": [
    {
     "name": "stdout",
     "output_type": "stream",
     "text": [
      "Giá trị biểu thức S(x, n) là: 3.5999999999999996\n"
     ]
    }
   ],
   "source": [
    "import math\n",
    "\n",
    "def TinhS(x, n):\n",
    "    S = 0\n",
    "    for i in range(n + 1):\n",
    "        mu = 2 * i + 1\n",
    "        S += x ** mu / math.factorial(mu)\n",
    "    return S\n",
    "# Nhập giá trị x và n từ người dùng\n",
    "x = float(input(\"Nhập x: \"))\n",
    "n = int(input(\"Nhập n: \"))\n",
    "print(\"Giá trị biểu thức S(x, n) là:\", TinhS(x, n))"
   ]
  }
 ],
 "metadata": {
  "kernelspec": {
   "display_name": "Python 3",
   "language": "python",
   "name": "python3"
  },
  "language_info": {
   "codemirror_mode": {
    "name": "ipython",
    "version": 3
   },
   "file_extension": ".py",
   "mimetype": "text/x-python",
   "name": "python",
   "nbconvert_exporter": "python",
   "pygments_lexer": "ipython3",
   "version": "3.13.7"
  }
 },
 "nbformat": 4,
 "nbformat_minor": 5
}
