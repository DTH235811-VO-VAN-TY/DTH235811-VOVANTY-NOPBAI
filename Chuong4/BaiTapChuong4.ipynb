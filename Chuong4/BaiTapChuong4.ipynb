{
 "cells": [
  {
   "cell_type": "markdown",
   "id": "235d25d4",
   "metadata": {},
   "source": [
    "Câu 1: Viết hàm để Tính diện tích tam giác \n",
    "Yêu cầu: \n",
    "Nhập vào 3 cạnh của tam giác, kiểm tra tính hợp lệ của tam giác, Sau đó tính diện tích \n",
    "theo công thức Herong: "
   ]
  },
  {
   "cell_type": "code",
   "execution_count": null,
   "id": "eaa1b2fc",
   "metadata": {},
   "outputs": [
    {
     "name": "stdout",
     "output_type": "stream",
     "text": [
      "Chương trình tính diện tích tam giác!\n",
      "Diện tích =  1.7320508075688772\n"
     ]
    }
   ],
   "source": [
    "\n",
    "#Câu 1\n",
    "from math import sqrt\n",
    "print(\"Chương trình tính diện tích tam giác!\")\n",
    "a=float(input(\"Nhập canh a>0: \"))\n",
    "b=float(input(\"Nhập cạnh b>0: \"))\n",
    "c=float(input(\"Nhập cạnh c>0: \"))\n",
    "if(a<=0 or b<=0 or c<=0) or (a+b)<=c or (a+c)<=b or (b+c)<=a:\n",
    "    print(\"Tam giác không hợp lệ!\")\n",
    "else:\n",
    "    cv=a+b+c\n",
    "    p=cv/2\n",
    "    dt=sqrt(p*(p-a)*(p-b)*(p-c))\n",
    "    print(\"Diện tích = \",dt)"
   ]
  },
  {
   "cell_type": "markdown",
   "id": "485b32e4",
   "metadata": {},
   "source": [
    "Câu 2: Viết Hàm để chơi Game Đoán Số \n",
    " \n",
    "Yêu cầu: \n",
    "Máy ra 1 số trong đoạn [1...100]\n",
    "Người chơi đoán số, chỉ được phép đoán sai 7 lần. Mỗi lần đoán sẽ thông báo số \n",
    "người chơi đoán nhỏ hơn hay lớn hơn số của mày và hiển thị số lần đoán \n",
    "Game kết thúc khi: Đoán sai quá 7 lần hoặc đoán trúng trước 7 lần. \n",
    "Sau khi game kết thúc hỏi người chơi có tiếp tục hay không?"
   ]
  },
  {
   "cell_type": "code",
   "execution_count": null,
   "id": "e52d4bd3",
   "metadata": {},
   "outputs": [
    {
     "name": "stdout",
     "output_type": "stream",
     "text": [
      "Bạn đoán lần thứ:  1\n",
      "Bạn đã đoán sai, số máy > số của bạn 50\n",
      "Bạn đoán lần thứ:  2\n",
      "Bạn đã đoán sai, số máy < số của bạn 60\n",
      "Bạn đoán lần thứ:  3\n",
      "Bạn đã đoán sai, số máy < số của bạn 55\n",
      "Bạn đoán lần thứ:  4\n",
      "Xin chúc mừng bạn đã đoán đúng, Số máy là 54 và Số bạn chọn là 54\n",
      "Cảm ơn bạn đã tham gia trò chơi!\n"
     ]
    }
   ],
   "source": [
    "#Bài 2\n",
    "from random import randrange\n",
    "while True:\n",
    "    somay = randrange(1,101)\n",
    "    solandoan = 0\n",
    "    win = False\n",
    "    while solandoan<7:\n",
    "        solandoan+=1\n",
    "        so_nguoi = int(input(\"Máy đoán [1-100], Mời bạn đoán: \"))\n",
    "        print(\"Bạn đoán lần thứ: \", solandoan)\n",
    "        if somay==so_nguoi:\n",
    "            print(f\"Xin chúc mừng bạn đã đoán đúng, Số máy là {somay} và Số bạn chọn là {so_nguoi}\")\n",
    "            win = True\n",
    "            break\n",
    "        if somay>so_nguoi:\n",
    "            print(f\"Bạn đã đoán sai, số máy > số của bạn {so_nguoi}\")\n",
    "        elif somay<so_nguoi:\n",
    "            print(f\"Bạn đã đoán sai, số máy < số của bạn {so_nguoi}\")\n",
    "    if win==False:\n",
    "        print(\"GAME OVER!, Số máy là \",somay)\n",
    "    hoi = input(\"Tiếp tục không?(C/K)\")\n",
    "    if hoi==\"k\":\n",
    "        break\n",
    "print(\"Cảm ơn bạn đã tham gia trò chơi!\")"
   ]
  },
  {
   "cell_type": "markdown",
   "id": "36ad1e8d",
   "metadata": {},
   "source": [
    "Câu 3: Viết Hàm tính BMI \n",
    " \n",
    "Yêu cầu: \n",
    "Gọi BMI là chỉ số cân đối cơ thể. Yêu cầu đầu vào nhập là chiều cao và cân nặng, \n",
    "hãy cho  biết người này như thế nào, biết rằng: BMI = Cân nặng(kg) / Chiều cao * Chiều cao(m)\n",
    "\n"
   ]
  },
  {
   "cell_type": "code",
   "execution_count": 10,
   "id": "fd792cf6",
   "metadata": {},
   "outputs": [
    {
     "name": "stdout",
     "output_type": "stream",
     "text": [
      "Chương trình tính BMI!\n",
      "BMI của bạn=  22.230987127541326\n",
      "Phân loại bạn= Bình thường\n",
      "Nguy cơ bệnh của Thím= Trung Bình\n"
     ]
    }
   ],
   "source": [
    "\n",
    "print(\"Chương trình tính BMI!\")\n",
    "def BMI(height,weight):\n",
    "    return weight/(height**2)\n",
    "def PhanLoai(bmi): \n",
    "    if bmi<18.5: \n",
    "        return \"Gầy\" \n",
    "    elif bmi<=24.9: \n",
    "        return \"Bình thường\" \n",
    "    elif bmi<=29.9: \n",
    "        return \"Hơi Béo\" \n",
    "    elif bmi<=34.9: \n",
    "        return \"Béo Phì Cấp Độ 1\" \n",
    "    elif bmi<=39.9: \n",
    "        return \"Béo Phì Cấp Độ 2\" \n",
    "    else: \n",
    "        return \"Béo Phì Cấp độ 3\" \n",
    "def NguyCoBenh(bmi): \n",
    "    if bmi<18.5: \n",
    "        return \"Thấp\" \n",
    "    elif bmi<=24.9:\n",
    "         return \"Trung Bình\" \n",
    "    elif bmi<=29.9: \n",
    "        return \"Cao\" \n",
    "    elif bmi<=34.9: \n",
    "        return \"Cao\" \n",
    "    elif bmi<=39.9: \n",
    "        return \"Rất cao\" \n",
    "    else: \n",
    "        return \"Nguy Hiểm\" \n",
    "    \n",
    "height=float(input(\"Nhập vào chiều cao:\")) \n",
    "weight=float(input(\"Nhập vào cân nặng:\") )\n",
    "bmi=BMI(height,weight) \n",
    "print(\"BMI của bạn= \",bmi) \n",
    "print(\"Phân loại bạn=\",PhanLoai(bmi)) \n",
    "print(\"Nguy cơ bệnh của Thím=\",NguyCoBenh(bmi)) \n"
   ]
  },
  {
   "cell_type": "markdown",
   "id": "c5ba6721",
   "metadata": {},
   "source": [
    "Câu 4: Viết Hàm tính ROI \n",
    " \n",
    "Yêu cầu: \n",
    "− ROI (Return On Investment), một thuật ngữ quan trọng trong marketing, mà đặc \n",
    "biệt là SEO, tạm dịch là tỷ lệ lợi nhuận thu được so với chi phí bạn đầu tư. Có thể -\n",
    "hiểu ROI một cách đơn giản chính là chỉ số đo lường tỷ lệ những gì bạn thu về so \n",
    "với những gì bạn phải bỏ ra. \n",
    "− Hiểu đúng bản chất của ROI, bạn sẽ đo lường được hiệu quả đồng vốn đầu tư của \n",
    "mình cho các chi phí như quảng cáo, chạy Adwords, hay chi phí marketing online \n",
    "khác. \n",
    "− Vì ROI dựa vào các chỉ số cụ thể, nên nó cũng là một thước đo rất cụ thể: \n",
    "− ROI = (Doanh thu – Chi phí)/Chi phí \n",
    "− Viết chương trình cho phép người dùng nhập vào Doanh thu và Chi phí và xuất ra \n",
    "tỉ lệ ROI cho người dùng, đồng thời hãy cho biết nên hay không nên đầu tư dự án \n",
    "khi biết ROI (giả sử mức tổi thiểu ROI =0.75 thì mới đầu tư)."
   ]
  },
  {
   "cell_type": "code",
   "execution_count": 13,
   "id": "2f74635c",
   "metadata": {},
   "outputs": [
    {
     "name": "stdout",
     "output_type": "stream",
     "text": [
      "Chương trình tính ROI\n",
      "Doanh Thu là:  500.0\n",
      "Chi Phí là:  50.0\n",
      "Tỉ lệ ROI =  9.0\n",
      "==> Nên đầu tư\n"
     ]
    }
   ],
   "source": [
    "def ROI(dt,cp):\n",
    "    return (dt-cp)/cp\n",
    "def GoiYDauTu(roi):\n",
    "    if roi>=0.75:\n",
    "        return \"Nên đầu tư\"\n",
    "    else:\n",
    "        return \"Không nên đầu tư\"\n",
    "print(\"Chương trình tính ROI\")  \n",
    "Doanh_Thu = float(input(\"Nhập doanh thu: \"))\n",
    "Chi_Phi = float(input(\"Nhập Chi Phí: \"))\n",
    "roi=ROI(Doanh_Thu,Chi_Phi)\n",
    "print(\"Doanh Thu là: \",Doanh_Thu)\n",
    "print(\"Chi Phí là: \",Chi_Phi)\n",
    "print(\"Tỉ lệ ROI = \",roi)\n",
    "print(\"==>\", GoiYDauTu(roi))\n"
   ]
  },
  {
   "cell_type": "markdown",
   "id": "8e857e4d",
   "metadata": {},
   "source": [
    "Câu 5: Viết hàm đệ qui Fibonacci \n",
    "Yêu cầu: \n",
    "Dãy Số Fibonacci là dãy số có dạng: \n",
    "1→1→2→3→5→8→13→21→34→55→89… \n",
    "Được định nghĩa theo công thức đệ qui như dưới đây: \n",
    "Nếu N=1,N=2➔FN=1 \n",
    "N>2 FN=FN-1+FN-2 \n",
    "Hãy viết 2 hàm: \n",
    "    - Hàm trả về số Fib tại vị trí thứ N bất kỳ \n",
    "    - Hàm trả về danh sách dãy số Fib từ 1 tới N "
   ]
  },
  {
   "cell_type": "code",
   "execution_count": 17,
   "id": "71627b6f",
   "metadata": {},
   "outputs": [
    {
     "name": "stdout",
     "output_type": "stream",
     "text": [
      "Số Fibonacci thứ 9 là 34\n",
      "Danh sách dãy Fibonacci từ 1 đến 9: \n",
      "1\t1\t2\t3\t5\t8\t13\t21\t34\t"
     ]
    }
   ],
   "source": [
    "def fibonacci(n):\n",
    "    if n<=2:\n",
    "        return 1\n",
    "    else:\n",
    "        return fibonacci(n-1)+fibonacci(n-2)\n",
    "    \n",
    "def lisFibo(n):\n",
    "    for i in range(1,n+1):\n",
    "        print(fibonacci(i),end='\\t')\n",
    "n = int(input(\"Nhập N: \"))\n",
    "print(f\"Số Fibonacci thứ {n} là {fibonacci(n)}\")\n",
    "print(f\"Danh sách dãy Fibonacci từ 1 đến {n}: \")\n",
    "lisFibo(n)"
   ]
  },
  {
   "cell_type": "markdown",
   "id": "bbdf5be7",
   "metadata": {},
   "source": [
    "Câu 6: Những giá trị nào có thể xuất hiện trong  randrange(0, 100) \n",
    " \n",
    "Yêu cầu: \n",
    "Những giá trị nào có thể xuất hiện khi chạy randrange(0, 100)? \n",
    " 4.5 , 34 , -1,  100,  0,  99\n",
    " ==> Trả lời: \n",
    "    - Những giá trị xuất hiện khi chạy randrange(0,100): 34,0,99"
   ]
  },
  {
   "cell_type": "markdown",
   "id": "370853df",
   "metadata": {},
   "source": [
    "Câu 7: Tính và xuất độ dài đoạn AB \n",
    "Yêu cầu: \n",
    "Nhập toạ độ 2 điểm A(xA,yA), B(xB,yB). Tính và xuất độ dài đoạn AB. "
   ]
  },
  {
   "cell_type": "code",
   "execution_count": 15,
   "id": "2ebc09e1",
   "metadata": {},
   "outputs": [
    {
     "name": "stdout",
     "output_type": "stream",
     "text": [
      "Tọa độ điểm A(2,2)\n",
      "Tọa độ điểm B(3,1)\n",
      "Độ dài đoạn AB là =  1.4142135623730951\n"
     ]
    }
   ],
   "source": [
    "import math\n",
    "xA = float(input(\"Nhập xA: \"))\n",
    "yA = float(input(\"Nhập yA: \"))\n",
    "print(f\"Tọa độ điểm A({xA:.0f},{yA:.0f})\")\n",
    "xB = float(input(\"Nhập xB: \"))\n",
    "yB = float(input(\"Nhập yB: \"))\n",
    "print(f\"Tọa độ điểm B({xB:.0f},{yB:.0f})\")\n",
    "distance = math.sqrt((xB-xA)**2+(yB-yA)**2)\n",
    "print(\"Độ dài đoạn AB là = \",distance)"
   ]
  },
  {
   "cell_type": "markdown",
   "id": "c53ee6b6",
   "metadata": {},
   "source": [
    "Câu 8: Viết chương trình tính loga x \n",
    "Yêu cầu: \n",
    "Viết chương trình tính loga x với a, x là các số thực nhập vào từ bàn phím, và x>0, a>0, a \n",
    "!= 1.( dùng logax=lnx/lna)"
   ]
  },
  {
   "cell_type": "code",
   "execution_count": null,
   "id": "5ac6260e",
   "metadata": {},
   "outputs": [
    {
     "name": "stdout",
     "output_type": "stream",
     "text": [
      "Log cơ số 2.0 của 4.0 là: 2.0\n"
     ]
    }
   ],
   "source": [
    "#Bai8\n",
    "a = float(input(\"Nhập vào a > 0 và a!=1: \"))\n",
    "while a<=0 or a==1:\n",
    "    print(\"Bạn đã nhập sai, Hãy nhập a > 0\")\n",
    "    a = float(input(\"Nhập vào a > 0: \"))\n",
    "x = float(input(\"Nhập vào x > 0: \"))\n",
    "while x<=0:\n",
    "    print(\"Bạn đã nhập sai, Hãy nhập x > 0\")\n",
    "    x = float(input(\"Nhập vào x > 0: \"))\n",
    "log_a_x = math.log(x)/math.log(a)\n",
    "print(f\"Log cơ số {a} của {x} là: {log_a_x}\")"
   ]
  },
  {
   "cell_type": "markdown",
   "id": "3fc62738",
   "metadata": {},
   "source": [
    "Câu 9: Viết chương trình tính căn bậc 2 lồng nhau"
   ]
  },
  {
   "cell_type": "code",
   "execution_count": 16,
   "id": "e57888a4",
   "metadata": {},
   "outputs": [
    {
     "name": "stdout",
     "output_type": "stream",
     "text": [
      "Giá trị của biểu thức với 5 dấu căn là: 1.99759\n"
     ]
    }
   ],
   "source": [
    "#Bai9\n",
    "n = int(input(\"Nhập số lượng dấu căn: \"))\n",
    "result = 0\n",
    "for i in range(n):\n",
    "    result = math.sqrt(2 + result)\n",
    "print(f\"Giá trị của biểu thức với {n} dấu căn là: {result:.5f}\")"
   ]
  },
  {
   "cell_type": "markdown",
   "id": "1e1e82a2",
   "metadata": {},
   "source": [
    "Câu 10: Vẽ hình dùng Sleep \n",
    "Yêu cầu: \n",
    "Vẽ 4 hình dưới đây, dùng sleep để xuất hiện từng hình sau 5 giây\n",
    "![alt text](image.png)"
   ]
  },
  {
   "cell_type": "code",
   "execution_count": 32,
   "id": "40cc6a9a",
   "metadata": {},
   "outputs": [
    {
     "name": "stdout",
     "output_type": "stream",
     "text": [
      " \n",
      "          *\n",
      "          * *\n",
      "          * * * \n",
      "    * * * * * * *\n",
      "    * * * \n",
      "    * *  \n",
      "    *\n",
      "    \n",
      "\n",
      "          *\n",
      "          * *\n",
      "          *   * \n",
      "    * * * * * * *\n",
      "    *   * \n",
      "    * *  \n",
      "    * \n",
      "    \n",
      " \n",
      "          * * * *\n",
      "          * * * \n",
      "          * *\n",
      "          *\n",
      "        * *\n",
      "      * * *\n",
      "    * * * * \n",
      "    \n",
      "\n",
      "          * * * *\n",
      "          *   * \n",
      "          * *\n",
      "          *\n",
      "        * *\n",
      "      *   *\n",
      "    * * * * \n",
      "    \n"
     ]
    }
   ],
   "source": [
    "import time\n",
    "import os\n",
    "\n",
    "\n",
    "shapes = [\n",
    "    \"\"\" \n",
    "          *\n",
    "          * *\n",
    "          * * * \n",
    "    * * * * * * *\n",
    "    * * * \n",
    "    * *  \n",
    "    *\n",
    "    \"\"\",  \n",
    "    \"\"\"\n",
    "          *\n",
    "          * *\n",
    "          *   * \n",
    "    * * * * * * *\n",
    "    *   * \n",
    "    * *  \n",
    "    * \n",
    "    \"\"\",  \n",
    "    \"\"\" \n",
    "          * * * *\n",
    "          * * * \n",
    "          * *\n",
    "          *\n",
    "        * *\n",
    "      * * *\n",
    "    * * * * \n",
    "    \"\"\",  \n",
    "    \"\"\"\n",
    "          * * * *\n",
    "          *   * \n",
    "          * *\n",
    "          *\n",
    "        * *\n",
    "      *   *\n",
    "    * * * * \n",
    "    \"\"\"   \n",
    "]\n",
    "for _ in range(1):  \n",
    "    for shape in shapes:\n",
    "        os.system(\"cls\" if os.name == \"nt\" else \"clear\")  # Xoá màn hình\n",
    "        print(shape)\n",
    "        time.sleep(5)"
   ]
  },
  {
   "cell_type": "markdown",
   "id": "803ca99d",
   "metadata": {},
   "source": [
    "Câu 11: Kiểm tra kết quả thực hiện"
   ]
  },
  {
   "cell_type": "code",
   "execution_count": 24,
   "id": "76cb56c9",
   "metadata": {},
   "outputs": [
    {
     "name": "stdout",
     "output_type": "stream",
     "text": [
      "Trường hợp 1\n",
      "Sum 1 =  5\n",
      "Sum 2 =  4\n",
      "Sum 3 =  None\n",
      "Trường hợp 2\n",
      "Sum 1 =  5\n",
      "Sum 3 =  1\n",
      "Sum 2 =  5\n",
      "Trường hợp 3\n",
      "Sum 2 =  5\n",
      "Sum 1 =  5\n",
      "Sum 3 =  None\n"
     ]
    }
   ],
   "source": [
    "def sum1(n):\n",
    "    s = 0\n",
    "    while n > 0:\n",
    "        s+=1\n",
    "        n-=1\n",
    "    return s\n",
    "def sum2():\n",
    "    global val\n",
    "    s = 0\n",
    "    while val > 0:\n",
    "        s+=1\n",
    "        val-=1\n",
    "    return s\n",
    "def sum3():\n",
    "    s = 0\n",
    "    for i in range(val,0,-1):\n",
    "        s+=1\n",
    "        return s\n",
    "def main1():\n",
    "    global val\n",
    "    val = 4\n",
    "    print(\"Sum 1 = \", sum1(5))\n",
    "    print(\"Sum 2 = \",sum2())\n",
    "    print(\"Sum 3 = \", sum3())\n",
    "def main2(): \n",
    "    global val \n",
    "    val = 5 \n",
    "    print(\"Sum 1 = \", sum1(5))\n",
    "    print(\"Sum 3 = \",sum3())\n",
    "    print(\"Sum 2 = \", sum2())\n",
    "def main3():\n",
    "    global val\n",
    "    val = 5\n",
    "    print(\"Sum 2 = \", sum2())\n",
    "    print(\"Sum 1 = \",sum1(5))\n",
    "    print(\"Sum 3 = \", sum3())\n",
    "print(\"Trường hợp 1\") \n",
    "main1()\n",
    "print(\"Trường hợp 2\")\n",
    "main2()\n",
    "print(\"Trường hợp 3\")\n",
    "main3()\n"
   ]
  },
  {
   "cell_type": "markdown",
   "id": "d73cc33a",
   "metadata": {},
   "source": [
    "![alt text](image-1.png)"
   ]
  },
  {
   "cell_type": "code",
   "execution_count": null,
   "id": "836d62bc",
   "metadata": {},
   "outputs": [
    {
     "name": "stdout",
     "output_type": "stream",
     "text": [
      "-3 3 -2 2 -1 1 0 0 1 -1 2 -2 3 -3 4 -4 \n"
     ]
    }
   ],
   "source": [
    "#Bai12\n",
    "def oscillate(start, end):\n",
    "    # Tăng từ start đến end\n",
    "    for i in range(start, end):\n",
    "        yield i\n",
    "        yield -i\n",
    "    \n",
    "for n in oscillate(-3,5):\n",
    "    print(n, end=' ')\n",
    "print()"
   ]
  },
  {
   "cell_type": "markdown",
   "id": "17205f82",
   "metadata": {},
   "source": [
    "Câu 13: Hàm kiểm tra số hoàn thiện, số thịnh vượng \n",
    "Yêu cầu: \n",
    "Viết hàm tính tổng ước số để áp dụng chung cho 2 bài dưới đây: \n",
    "a)Kiểm tra số nguyên dương n có phải là  số hoàn thiện (Pefect number) hay không? \n",
    "(Số hoàn thiện là số có tổng các ước số của nó (không kể nó) thì bằng chính nó. \n",
    "Vd: 6 có các ước số là 1,2,3 và 6=1+2+3 ➔6 là số hoàn thiện) \n",
    "b) Kiểm tra số nguyên dương n có phải là  số thịnh vượng (Abundant number)hay \n",
    "không? (Số thịnh vượng là số có tổng các ước số của nó (không kể nó) thì lớn hơn \n",
    "nó. Vd:12 có các ước số là 1,2,3,4,6 và 12<1+2+3+4+6 ➔12 là số thịnh vượng)"
   ]
  },
  {
   "cell_type": "code",
   "execution_count": null,
   "id": "264cd108",
   "metadata": {},
   "outputs": [
    {
     "name": "stdout",
     "output_type": "stream",
     "text": [
      "Chọn chức năng:\n",
      "1. Kiểm tra số hoàn hảo\n",
      "2. Kiểm tra số thịnh vượng\n",
      "Kiểm tra số thịnh vượng\n",
      "12 là số thiên vương!\n"
     ]
    }
   ],
   "source": [
    "#Bai13\n",
    "def Tong_Uoc(n):\n",
    "    sum = 0\n",
    "    for i in range(1,n):\n",
    "        if n%i==0:\n",
    "            sum+=i\n",
    "    return sum\n",
    "def KT_SHH(n):\n",
    "    return Tong_Uoc(n) == n\n",
    "       \n",
    "def KT_STV(n):\n",
    "    return Tong_Uoc(n)>n\n",
    "print(\"Chọn chức năng:\")\n",
    "print(\"1. Kiểm tra số hoàn hảo\")\n",
    "print(\"2. Kiểm tra số thịnh vượng\")\n",
    "lua_chon = int(input(\"Nhập lựa chọn (1 hoặc 2): \"))\n",
    "if lua_chon in [1,2]:\n",
    "    n = int(input(\"Nhập số nguyên dương n: \"))\n",
    "    if lua_chon ==1:\n",
    "        print(\"Kiểm tra số hoàn hảo\")\n",
    "        if KT_SHH(n):\n",
    "            print(f\"{n} là số hoàn hảo!\")\n",
    "        else: print(f\"{n} không phải là số hoản hảo\")\n",
    "    elif lua_chon==2:\n",
    "        print(\"Kiểm tra số thịnh vượng\")\n",
    "        if KT_STV(n):\n",
    "            print(f\"{n} là số thịnh vương!\")\n",
    "        else:\n",
    "            print(f\"{n} không phải là số hoàn hảo hay là số thiên vương\")\n",
    "\n",
    "    \n",
    "        \n",
    "\n"
   ]
  }
 ],
 "metadata": {
  "kernelspec": {
   "display_name": "Python 3",
   "language": "python",
   "name": "python3"
  },
  "language_info": {
   "codemirror_mode": {
    "name": "ipython",
    "version": 3
   },
   "file_extension": ".py",
   "mimetype": "text/x-python",
   "name": "python",
   "nbconvert_exporter": "python",
   "pygments_lexer": "ipython3",
   "version": "3.13.7"
  }
 },
 "nbformat": 4,
 "nbformat_minor": 5
}
